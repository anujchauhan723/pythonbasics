{
  "nbformat": 4,
  "nbformat_minor": 0,
  "metadata": {
    "colab": {
      "provenance": []
    },
    "kernelspec": {
      "name": "python3",
      "display_name": "Python 3"
    },
    "language_info": {
      "name": "python"
    }
  },
  "cells": [
    {
      "cell_type": "markdown",
      "source": [
        "#Assignment : Python basic\n"
      ],
      "metadata": {
        "id": "foN-le2AGwC7"
      }
    },
    {
      "cell_type": "code",
      "source": [
        "\"\"\"\"\n",
        "1. What is Python, and why is it popular ?\n",
        "  - Python is a high-level, general-purpose programming language known for its readability and versatility.\n",
        "    It's widely used in various fields like web development, data science, machine learning, and automation.\n",
        "    Python's popularity stems from its ease of learning, large community support, extensive libraries, and ability to run on multiple platforms.\n",
        "\n",
        "2. What is an interpreter in Python ?\n",
        "  - An interpreter is a program that reads the python code line by line and translates it into machine readable instructions.\n",
        "\n",
        "3. What are pre-defined keywords in Python ?\n",
        "  - Python Keywords are some predefined and reserved words in Python that have special meanings. Keywords are used to define the syntax of the coding.\n",
        "\n",
        "4. Can keywords be used as variable names?\n",
        "  - Keyword cannot be used as variable names.\n",
        "\n",
        "5. What is mutability in Python ?\n",
        "  - Mutability refers to the ability to modified after it is created.\n",
        "\n",
        "6. Why are lists mutable, but tuples are immutable?\n",
        "  -\n",
        "\n",
        "7. What is the difference between “==” and “is” operators in Python?\n",
        "  -The \"==\" operator checks for equality of value, while the \"is\" operator checks for identity.\n",
        "\n",
        "8. What are logical operators in Python?\n",
        "  - Logical operators in Python are used to combine or modify boolean values (True or False). There are three main logical operators:\n",
        "    and: Returns True if both operands are True, otherwise returns False.\n",
        "    or: Returns True if at least one of the operands is True, otherwise returns False.\n",
        "    not: Returns the opposite of the operand's boolean value. If the operand is True, it returns False, and vice versa.\n",
        "\n",
        "9. What is type casting in Python?\n",
        "  -Type casting in Python is the process of converting a variable from one data type to another. It is also known as type conversion.\n",
        "\n",
        "10. What is the difference between implicit and explicit type casting?\n",
        "  -Implicit type casting, also known as widening or upcasting, is the automatic conversion of a smaller data type to a larger one by the compiler.\n",
        "   Explicit type casting, or narrowing casting, involves the programmer manually converting a larger data type to a smaller one, potentially leading to data loss.\n",
        "\n",
        "11. What is the purpose of conditional statements in Python?\n",
        "  - Conditional statements in Python enable programs to execute different code blocks based on whether specific conditions are met.\n",
        "    They control the flow of execution, allowing for decision-making within the program.\n",
        "    The primary conditional statements in Python are if, elif, and else.\n",
        "\n",
        "12.How does the elif statement work?\n",
        "  -The “elif” keyword in Python, stands for “else if”. It can be used in conditional statements to check for multiple conditions.\n",
        "   For example, if the first condition is false, it moves on to the next “elif” statement to check if that condition is true.\n",
        "\n",
        "13. What is the difference between for and while loops?\n",
        "  -A for loop in Python repeats executing a code block from a sequence till certain number of times.\n",
        "   Whereas a while loop in Python repeats execution of a code block till the condition is true which is not certain.\n",
        "\n",
        "14. Describe a scenario where a while loop is more suitable than a for loop.\n",
        "  -A scenario where a while loop is more suitable than a for loop is when the number of iterations is not known beforehand and depends on a certain condition being met.\n",
        "   For example, consider a program that prompts the user to enter numbers until they enter 0.\n",
        "   A while loop can be used to continuously take input and process it until the user enters 0, at which point the loop terminates.\n",
        "\n",
        "\n",
        "\"\"\"\""
      ],
      "metadata": {
        "id": "55aKFL-DGxe0"
      },
      "execution_count": null,
      "outputs": []
    },
    {
      "cell_type": "markdown",
      "source": [
        "###Practical Questions\n"
      ],
      "metadata": {
        "id": "dI3NsnJ6NGGl"
      }
    },
    {
      "cell_type": "code",
      "source": [
        "# 01. Write a Python program to print \"Hello, World!\n",
        "\n",
        "print (\"Hello, World!\")"
      ],
      "metadata": {
        "colab": {
          "base_uri": "https://localhost:8080/"
        },
        "id": "rkySZ92GNIwA",
        "outputId": "adc1197b-8d07-4c43-bc45-ff7645250e03"
      },
      "execution_count": 1,
      "outputs": [
        {
          "output_type": "stream",
          "name": "stdout",
          "text": [
            "Hello, World!\n"
          ]
        }
      ]
    },
    {
      "cell_type": "code",
      "source": [
        "# 02.Write a Python program that displays your name and age.\n",
        "\n",
        "print (\"My name is Anuj Pratap Singh\")\n",
        "print(\"Age = 25 Years\")"
      ],
      "metadata": {
        "colab": {
          "base_uri": "https://localhost:8080/"
        },
        "id": "TVg_v61INYBQ",
        "outputId": "2ad9cfad-1a28-49d4-b90f-fcdbba642fc0"
      },
      "execution_count": 2,
      "outputs": [
        {
          "output_type": "stream",
          "name": "stdout",
          "text": [
            "My name is Anuj Pratap Singh\n",
            "Age = 25 Years\n"
          ]
        }
      ]
    },
    {
      "cell_type": "code",
      "source": [
        "# 03.Write code to print all the pre-defined keywords in Python using the keyword library\n",
        "\n",
        "import keyword\n",
        "print (keyword.kwlist)"
      ],
      "metadata": {
        "colab": {
          "base_uri": "https://localhost:8080/"
        },
        "id": "OReh_MbsNsuT",
        "outputId": "fdf26fc8-fdcc-4795-95b2-9b8b6f19c56b"
      },
      "execution_count": 3,
      "outputs": [
        {
          "output_type": "stream",
          "name": "stdout",
          "text": [
            "['False', 'None', 'True', 'and', 'as', 'assert', 'async', 'await', 'break', 'class', 'continue', 'def', 'del', 'elif', 'else', 'except', 'finally', 'for', 'from', 'global', 'if', 'import', 'in', 'is', 'lambda', 'nonlocal', 'not', 'or', 'pass', 'raise', 'return', 'try', 'while', 'with', 'yield']\n"
          ]
        }
      ]
    },
    {
      "cell_type": "code",
      "source": [
        "# 04.Write a program that checks if a given word is a Python keyword.\n",
        "\n",
        "import keyword\n",
        "def is_keyword(word):\n",
        "  return keyword.iskeyword(word)\n",
        "\n",
        "\n",
        "word1 = \"for\"\n",
        "word2 = \"hello\"\n",
        "word3 = \"True\"\n",
        "\n",
        "print(f\"'{word1}' is a keyword: {is_keyword(word1)}\")\n",
        "print(f\"'{word2}' is a keyword: {is_keyword(word2)}\")\n",
        "print(f\"'{word3}' is a keyword: {is_keyword(word3)}\")"
      ],
      "metadata": {
        "colab": {
          "base_uri": "https://localhost:8080/"
        },
        "id": "bozbDndqOIc7",
        "outputId": "14aab8b5-9329-4b20-90cb-186ffe0fc4d6"
      },
      "execution_count": 7,
      "outputs": [
        {
          "output_type": "stream",
          "name": "stdout",
          "text": [
            "'for' is a keyword: True\n",
            "'hello' is a keyword: False\n",
            "'True' is a keyword: True\n"
          ]
        }
      ]
    },
    {
      "cell_type": "code",
      "source": [
        "# 05.Create a list and tuple in Python, and demonstrate how attempting to change an element works differently for each.\n",
        "\n",
        "# Create a list\n",
        "my_list = [10, 20, 30]\n",
        "print(\"Original list:\", my_list)\n",
        "\n",
        "# Modify an element in the list\n",
        "my_list[0] = 40\n",
        "print(\"Modified list:\", my_list)\n",
        "\n",
        "# Create a tuple\n",
        "my_tuple = (40, 50, 60)\n",
        "print(\"Original tuple:\", my_tuple)\n",
        "\n",
        "# Attempt to modify an element in the tuple (this will cause an error)\n",
        "try:\n",
        "    my_tuple[1] = 20\n",
        "except TypeError as e:\n",
        "    print(\"Error:\", e)"
      ],
      "metadata": {
        "colab": {
          "base_uri": "https://localhost:8080/"
        },
        "id": "M7vcEQgzPG7X",
        "outputId": "8fb17118-12d9-496e-e336-427172fff2b9"
      },
      "execution_count": 11,
      "outputs": [
        {
          "output_type": "stream",
          "name": "stdout",
          "text": [
            "Original list: [10, 20, 30]\n",
            "Modified list: [40, 20, 30]\n",
            "Original tuple: (40, 50, 60)\n",
            "Error: 'tuple' object does not support item assignment\n"
          ]
        }
      ]
    },
    {
      "cell_type": "code",
      "source": [
        "# 06.Write a function to demonstrate the behavior of mutable and immutable arguments.\n",
        "\n",
        "def modify_arguments(immutable_arg, mutable_arg):\n",
        "    \"\"\"\n",
        "    Demonstrates the behavior of mutable and immutable arguments in Python.\n",
        "\n",
        "    Args:\n",
        "        immutable_arg: An immutable argument (e.g., integer, string, tuple).\n",
        "        mutable_arg: A mutable argument (e.g., list, dictionary).\n",
        "    \"\"\"\n",
        "    print(\"Original immutable argument:\", immutable_arg)\n",
        "    print(\"Original mutable argument:\", mutable_arg)\n",
        "\n",
        "    # Attempt to modify the immutable argument\n",
        "    immutable_arg = immutable_arg + 1\n",
        "    print(\"Modified immutable argument inside function:\", immutable_arg)\n",
        "\n",
        "    # Modify the mutable argument\n",
        "    mutable_arg.append(4)\n",
        "    print(\"Modified mutable argument inside function:\", mutable_arg)\n",
        "\n",
        "\n",
        "# Example usage:\n",
        "immutable_value = 10\n",
        "mutable_list = [1, 2, 3]\n",
        "\n",
        "modify_arguments(immutable_value, mutable_list)\n",
        "\n",
        "print(\"Immutable argument after function call:\", immutable_value)\n",
        "print(\"Mutable argument after function call:\", mutable_list)"
      ],
      "metadata": {
        "colab": {
          "base_uri": "https://localhost:8080/"
        },
        "id": "cf7iy7YPQQEi",
        "outputId": "f2b3c454-9632-4959-974b-c51ea2fec0f2"
      },
      "execution_count": 12,
      "outputs": [
        {
          "output_type": "stream",
          "name": "stdout",
          "text": [
            "Original immutable argument: 10\n",
            "Original mutable argument: [1, 2, 3]\n",
            "Modified immutable argument inside function: 11\n",
            "Modified mutable argument inside function: [1, 2, 3, 4]\n",
            "Immutable argument after function call: 10\n",
            "Mutable argument after function call: [1, 2, 3, 4]\n"
          ]
        }
      ]
    },
    {
      "cell_type": "code",
      "source": [
        "# 07.Write a program that performs basic arithmetic operations on two user-input numbers.\n",
        "\n",
        "def add(x, y):\n",
        "    \"\"\"Performs addition of two numbers.\"\"\"\n",
        "    return x + y\n",
        "\n",
        "def subtract(x, y):\n",
        "    \"\"\"Performs subtraction of two numbers.\"\"\"\n",
        "    return x - y\n",
        "\n",
        "def multiply(x, y):\n",
        "    \"\"\"Performs multiplication of two numbers.\"\"\"\n",
        "    return x * y\n",
        "\n",
        "def divide(x, y):\n",
        "    \"\"\"Performs division of two numbers.\"\"\"\n",
        "    if y == 0:\n",
        "        return \"Cannot divide by zero.\"\n",
        "    return x / y\n",
        "\n",
        "# Get user input\n",
        "num1 = float(input(\"Enter the first number: \"))\n",
        "num2 = float(input(\"Enter the second number: \"))\n",
        "\n",
        "# Perform operations and display results\n",
        "print(\"Addition:\", add(num1, num2))\n",
        "print(\"Subtraction:\", subtract(num1, num2))\n",
        "print(\"Multiplication:\", multiply(num1, num2))\n",
        "print(\"Division:\", divide(num1, num2))"
      ],
      "metadata": {
        "colab": {
          "base_uri": "https://localhost:8080/"
        },
        "id": "5u-3VF0SSY4D",
        "outputId": "c2d8d7c5-626e-43cd-d759-42a3bc2ddd8c"
      },
      "execution_count": 13,
      "outputs": [
        {
          "output_type": "stream",
          "name": "stdout",
          "text": [
            "Enter the first number: 50\n",
            "Enter the second number: 20\n",
            "Addition: 70.0\n",
            "Subtraction: 30.0\n",
            "Multiplication: 1000.0\n",
            "Division: 2.5\n"
          ]
        }
      ]
    },
    {
      "cell_type": "code",
      "source": [
        "# 08.Write a program to demonstrate the use of logical operators.\n",
        "\n",
        "temperature = 25\n",
        "is_sunny = True\n",
        "if temperature > 20 and is_sunny:\n",
        "  print(\"It's a perfect day for a picnic!\")"
      ],
      "metadata": {
        "colab": {
          "base_uri": "https://localhost:8080/"
        },
        "id": "9ivE3FFhSrIW",
        "outputId": "d62d2395-ce3b-4b1e-eedf-2ee9faaefd34"
      },
      "execution_count": 14,
      "outputs": [
        {
          "output_type": "stream",
          "name": "stdout",
          "text": [
            "It's a perfect day for a picnic!\n"
          ]
        }
      ]
    },
    {
      "cell_type": "code",
      "source": [
        "# 09.Write a Python program to convert user input from string to integer, float, and boolean types.\n",
        "\n",
        "a = input(\"please enter your string\")\n",
        "print (\"your string is\", a)\n",
        "\n",
        "print (\"this is integer value\", int(a))\n",
        "print (\"this is float value\", float(a))\n",
        "print (\"the boolean value is\", bool(a))\n"
      ],
      "metadata": {
        "colab": {
          "base_uri": "https://localhost:8080/"
        },
        "id": "DEdz0eSBTLOU",
        "outputId": "0ae3181d-082a-4cbb-db30-0f17af5a1403"
      },
      "execution_count": 29,
      "outputs": [
        {
          "output_type": "stream",
          "name": "stdout",
          "text": [
            "please enter your string1250\n",
            "your string is 1250\n",
            "this is integer value 1250\n",
            "this is float value 1250.0\n",
            "the boolean value is True\n"
          ]
        }
      ]
    },
    {
      "cell_type": "code",
      "source": [
        "# 10.Write code to demonstrate type casting with list elements\n",
        "\n",
        "a = [1, 4, 9, 10, 19]\n",
        "b = [[5, 6, 8], [8, 5, 3], [9, 10, 3]]\n",
        "\n",
        "c = list(map(str, a))\n",
        "d = [list(map(str, sub)) for sub in b]\n",
        "\n",
        "print(c)\n",
        "print(d)"
      ],
      "metadata": {
        "colab": {
          "base_uri": "https://localhost:8080/"
        },
        "id": "ExKxdKxyTsUf",
        "outputId": "f4ff9a06-5e80-4847-f877-ad13b26949e9"
      },
      "execution_count": 30,
      "outputs": [
        {
          "output_type": "stream",
          "name": "stdout",
          "text": [
            "['1', '4', '9', '10', '19']\n",
            "[['5', '6', '8'], ['8', '5', '3'], ['9', '10', '3']]\n"
          ]
        }
      ]
    },
    {
      "cell_type": "code",
      "source": [
        "# 11.Write a program that checks if a number is positive, negative, or zero\n",
        "\n",
        "n=0\n",
        "\n",
        "if n > 0:\n",
        "  print(\"Number is Positive\")\n",
        "elif n < 0:\n",
        "  print(\"Number is Negative\")\n",
        "else:\n",
        "  print(\"Number is Zero\")"
      ],
      "metadata": {
        "colab": {
          "base_uri": "https://localhost:8080/"
        },
        "id": "U0fR1KzTVYa6",
        "outputId": "1a915857-3dac-469c-fa09-7fbdc66f36da"
      },
      "execution_count": 36,
      "outputs": [
        {
          "output_type": "stream",
          "name": "stdout",
          "text": [
            "Number is Zero\n"
          ]
        }
      ]
    },
    {
      "cell_type": "code",
      "source": [
        "# 12.Write a for loop to print numbers from 1 to 10.\n",
        "\n",
        "for i in range(1, 11):\n",
        "    print(i)"
      ],
      "metadata": {
        "colab": {
          "base_uri": "https://localhost:8080/"
        },
        "id": "QG8UtosoZGUW",
        "outputId": "083ad101-a1be-4426-a4d6-bbd53949821f"
      },
      "execution_count": 37,
      "outputs": [
        {
          "output_type": "stream",
          "name": "stdout",
          "text": [
            "1\n",
            "2\n",
            "3\n",
            "4\n",
            "5\n",
            "6\n",
            "7\n",
            "8\n",
            "9\n",
            "10\n"
          ]
        }
      ]
    },
    {
      "cell_type": "code",
      "source": [
        "#  13.Write a Python program to find the sum of all even numbers between 1 and 50.\n",
        "\n",
        "sum_even = 0\n",
        "for num in range(2, 51, 2):\n",
        "    sum_even += num\n",
        "print(sum_even)"
      ],
      "metadata": {
        "colab": {
          "base_uri": "https://localhost:8080/"
        },
        "id": "u0_OeltLZvv2",
        "outputId": "22fdc02b-ac76-4e4e-8d3c-9c49f30dc744"
      },
      "execution_count": 41,
      "outputs": [
        {
          "output_type": "stream",
          "name": "stdout",
          "text": [
            "650\n"
          ]
        }
      ]
    },
    {
      "cell_type": "code",
      "source": [
        "# 14.Write a program to reverse a string using a while loop.\n",
        "\n",
        "def reverse_string(s):\n",
        "    reversed_s = \"\"\n",
        "    length = len(s) - 1\n",
        "    while length >= 0:\n",
        "        reversed_s += s[length]\n",
        "        length -= 1\n",
        "    return reversed_s\n",
        "\n",
        "input_string = \"Hello, World!\"\n",
        "reversed_string = reverse_string(input_string)\n",
        "print(f\"Original string: {input_string}\")\n",
        "print(f\"Reversed string: {reversed_string}\")"
      ],
      "metadata": {
        "colab": {
          "base_uri": "https://localhost:8080/"
        },
        "id": "GPdSNgjpZ6RT",
        "outputId": "b8ece793-7f18-4034-cb69-91bc3dfe7863"
      },
      "execution_count": 49,
      "outputs": [
        {
          "output_type": "stream",
          "name": "stdout",
          "text": [
            "Original string: Hello, World!\n",
            "Reversed string: !dlroW ,olleH\n"
          ]
        }
      ]
    },
    {
      "cell_type": "code",
      "source": [
        "# 15.Write a Python program to calculate the factorial of a number provided by the user using a while loop\n",
        "\n",
        "number = int(input(\"Enter a non-negative integer: \"))\n",
        "factorial = 1\n",
        "\n",
        "if number < 0:\n",
        "    print(\"Factorial is not defined for negative numbers.\")\n",
        "elif number == 0:\n",
        "    print(\"The factorial of 0 is 1\")\n",
        "else:\n",
        "    while number > 0:\n",
        "        factorial *= number\n",
        "        number -= 1\n",
        "    print(\"The factorial is\", factorial)"
      ],
      "metadata": {
        "colab": {
          "base_uri": "https://localhost:8080/"
        },
        "id": "8mfOeOvTa2dH",
        "outputId": "9925cdcb-be76-469c-e34b-6f4a491cd181"
      },
      "execution_count": 51,
      "outputs": [
        {
          "output_type": "stream",
          "name": "stdout",
          "text": [
            "Enter a non-negative integer: 5\n",
            "The factorial is 120\n"
          ]
        }
      ]
    },
    {
      "cell_type": "code",
      "source": [],
      "metadata": {
        "id": "Fbqlz34obaui"
      },
      "execution_count": null,
      "outputs": []
    }
  ]
}